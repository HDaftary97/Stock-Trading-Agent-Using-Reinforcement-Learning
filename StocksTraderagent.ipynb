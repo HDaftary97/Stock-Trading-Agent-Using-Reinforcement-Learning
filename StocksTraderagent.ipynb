{
  "nbformat": 4,
  "nbformat_minor": 0,
  "metadata": {
    "colab": {
      "name": "StocksTraderagent",
      "version": "0.3.2",
      "provenance": [],
      "collapsed_sections": []
    },
    "kernelspec": {
      "name": "python3",
      "display_name": "Python 3"
    }
  },
  "cells": [
    {
      "cell_type": "code",
      "metadata": {
        "id": "RquXDmedj4rd",
        "colab_type": "code",
        "colab": {}
      },
      "source": [
        "!pip install gym\n",
        "!apt-get update && apt-get install libopenmpi-dev\n",
        "!git clone https://github.com/openai/spinningup.git\n",
        "%cd spinningup\n",
        "!pip install -e .\n",
        "%cd\n",
        "!git clone https://github.com/shreyas2398/fyp\n",
        "%cd fyp/\n",
        "!cp StocksEnv.py /usr/local/lib/python3.6/dist-packages/gym/envs/toy_text\n",
        "%cd /usr/local/lib/python3.6/dist-packages/gym/envs/toy_text\n",
        "!echo \"from gym.envs.toy_text.StocksEnv import StocksEnv\" >> __init__.py\n",
        "%cd ..\n",
        "!echo \"register(id='StocksEnv-v0',entry_point='gym.envs.toy_text:StocksEnv',)\" >> __init__.py"
      ],
      "execution_count": 0,
      "outputs": []
    },
    {
      "cell_type": "code",
      "metadata": {
        "id": "byPFk7OxkKdC",
        "colab_type": "code",
        "colab": {}
      },
      "source": [
        "from spinup import trpo\n",
        "import tensorflow as tf\n",
        "import gym\n",
        "\n",
        "env_fn = lambda : gym.make('StocksEnv-v0')\n",
        "ac_kwargs = dict(hidden_sizes=[64,64], activation=tf.nn.relu)\n",
        "\n",
        "logger_kwargs = dict(output_dir='path/to/output_dir', exp_name='expewriment_name')\n",
        "\n",
        "\n",
        "\n",
        "trpo(env_fn, ac_kwargs=ac_kwargs, steps_per_epoch=1500, epochs=5000, logger_kwargs=logger_kwargs,save_freq=100)"
      ],
      "execution_count": 0,
      "outputs": []
    },
    {
      "cell_type": "code",
      "metadata": {
        "id": "zX3SITdSkP1x",
        "colab_type": "code",
        "colab": {}
      },
      "source": [
        "from spinup import ppo\n",
        "import tensorflow as tf\n",
        "import gym\n",
        "\n",
        "env_fn = lambda : gym.make('StocksEnv-v0')\n",
        "\n",
        "ac_kwargs = dict(hidden_sizes=[64,64], activation=tf.nn.relu)\n",
        "\n",
        "logger_kwargs = dict(output_dir='path/to/output_dir', exp_name='expewriment_name')\n",
        "\n",
        "ppo(env_fn, ac_kwargs=ac_kwargs, steps_per_epoch=1200, epochs=3500, logger_kwargs=logger_kwargs,save_freq=100) "
      ],
      "execution_count": 0,
      "outputs": []
    },
    {
      "cell_type": "code",
      "metadata": {
        "id": "L9ClhqudkSYp",
        "colab_type": "code",
        "colab": {}
      },
      "source": [
        "from spinup import vpg\n",
        "import tensorflow as tf\n",
        "import gym\n",
        "\n",
        "env_fn = lambda : gym.make('StocksEnv-v0')\n",
        "ac_kwargs = dict(hidden_sizes=[64,64], activation=tf.nn.relu)\n",
        "\n",
        "logger_kwargs = dict(output_dir='path/to/output_dir', exp_name='expewriment_name')\n",
        "\n",
        "\n",
        "\n",
        "vpg(env_fn, ac_kwargs=ac_kwargs, steps_per_epoch=1200, epochs=3000, logger_kwargs=logger_kwargs,save_freq=100)"
      ],
      "execution_count": 0,
      "outputs": []
    }
  ]
}